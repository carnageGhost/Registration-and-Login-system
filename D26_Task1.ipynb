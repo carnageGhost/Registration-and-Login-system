{
  "nbformat": 4,
  "nbformat_minor": 0,
  "metadata": {
    "colab": {
      "name": "D26_Task1.ipynb",
      "provenance": [],
      "collapsed_sections": []
    },
    "kernelspec": {
      "name": "python3",
      "display_name": "Python 3"
    },
    "language_info": {
      "name": "python"
    }
  },
  "cells": [
    {
      "cell_type": "code",
      "source": [
        "import os,sys\n",
        "def signup():\n",
        "  userlen=16\n",
        "  temp=input(\"Enter Username\")\n",
        "  l=len(temp)\n",
        "  temp=temp+((userlen-l)*'')\n",
        "  temp=temp.encode()\n",
        "  with open('Login.dat','ab+')as f:\n",
        "    size=os.path.getsize('Logindoc.dat')\n",
        "    n=int(size/28)\n",
        "    position=0\n",
        "    for i in range(n):\n",
        "      f.seek(position)\n",
        "      str=f.read(16)\n",
        "      if temp in str:\n",
        "        print(\"Username already exists\")\n",
        "        return\n",
        "      position=position+28\n",
        "  username=temp\n",
        "  print(\"Enter Password\")\n",
        "  print(\"Password Must have minimum one special character and one digit and one uppercase and one lowercase character and msut be of minimum 6 characters\")\n",
        "  u=0\n",
        "  s=0\n",
        "  a=input()\n",
        "  for i in range(0,len(a)):\n",
        "    if(a[i].isupper()):\n",
        "       u=u+1\n",
        "    elif(a[i]=='@' or a[i]=='$'):\n",
        "        s=s+1\n",
        "  try:\n",
        "    if(u!=0 and s!=0 and len(a)<=6):\n",
        "        Password=a\n",
        "        Password=Password.encode()\n",
        "    else:\n",
        "      raise Exception(\"Invalid Password\")\n",
        "  except Exception as e:\n",
        "      print(\"Password Must have minimum one special character and one digit and one uppercase and one lowercase character and msut be of minimum 6 characters\")\n",
        "      exit()\n",
        "  with open('Logindocdat''a+b')as f:\n",
        "      f.write(Username+Password)\n",
        "\n",
        "#def Login()\n",
        "  userlen=16\n",
        "  user=input(\"Enter Username\")\n",
        "  l=len(user)\n",
        "  user=user+((userlen-l)*'')\n",
        "  user=user.encode()\n",
        "  Password=input(\"Enter Password\")\n",
        "  Password=Password.encode()\n",
        "  userinfo=user+Password\n",
        "  size=os.path.getsize('Logindoc.dat')\n",
        "  n=int(Size/28)\n",
        "  with open('Logindoc.dat','rb')as f:\n",
        "    position=0\n",
        "    for i in range(n):\n",
        "      f.seek(position)\n",
        "      str.f.read(28)\n",
        "      if userinfo in str:\n",
        "         print('Login successful')\n",
        "         exit()\n",
        "      position+=28\n",
        "  print(\"Username and Password does not match\")\n",
        "  return\n",
        "\n",
        "while(1):\n",
        "  print('1.Signup\\n2.Login\\nExit')\n",
        "  print('Enter your choice:')\n",
        "  c=int(input())\n",
        "  if(c==1):\n",
        "    signup()\n",
        "  elif(c==2):\n",
        "    login()\n",
        "  elif(c==3):\n",
        "    exit()\n",
        "  else:\n",
        "    print('Invalid Choice')"
      ],
      "metadata": {
        "colab": {
          "base_uri": "https://localhost:8080/",
          "height": 504
        },
        "id": "Mqa9a1N5VRIk",
        "outputId": "9c81809e-4d45-4696-f674-a670cad0dae1"
      },
      "execution_count": 16,
      "outputs": [
        {
          "name": "stdout",
          "output_type": "stream",
          "text": [
            "1.Signup\n",
            "2.Login\n",
            "Exit\n",
            "Enter your choice:\n",
            "1\n",
            "Enter Usernameha@gmail.com\n"
          ]
        },
        {
          "output_type": "error",
          "ename": "FileNotFoundError",
          "evalue": "ignored",
          "traceback": [
            "\u001b[0;31m---------------------------------------------------------------------------\u001b[0m",
            "\u001b[0;31mFileNotFoundError\u001b[0m                         Traceback (most recent call last)",
            "\u001b[0;32m<ipython-input-16-0cb28730bb2a>\u001b[0m in \u001b[0;36m<module>\u001b[0;34m()\u001b[0m\n\u001b[1;32m     68\u001b[0m   \u001b[0mc\u001b[0m\u001b[0;34m=\u001b[0m\u001b[0mint\u001b[0m\u001b[0;34m(\u001b[0m\u001b[0minput\u001b[0m\u001b[0;34m(\u001b[0m\u001b[0;34m)\u001b[0m\u001b[0;34m)\u001b[0m\u001b[0;34m\u001b[0m\u001b[0;34m\u001b[0m\u001b[0m\n\u001b[1;32m     69\u001b[0m   \u001b[0;32mif\u001b[0m\u001b[0;34m(\u001b[0m\u001b[0mc\u001b[0m\u001b[0;34m==\u001b[0m\u001b[0;36m1\u001b[0m\u001b[0;34m)\u001b[0m\u001b[0;34m:\u001b[0m\u001b[0;34m\u001b[0m\u001b[0;34m\u001b[0m\u001b[0m\n\u001b[0;32m---> 70\u001b[0;31m     \u001b[0msignup\u001b[0m\u001b[0;34m(\u001b[0m\u001b[0;34m)\u001b[0m\u001b[0;34m\u001b[0m\u001b[0;34m\u001b[0m\u001b[0m\n\u001b[0m\u001b[1;32m     71\u001b[0m   \u001b[0;32melif\u001b[0m\u001b[0;34m(\u001b[0m\u001b[0mc\u001b[0m\u001b[0;34m==\u001b[0m\u001b[0;36m2\u001b[0m\u001b[0;34m)\u001b[0m\u001b[0;34m:\u001b[0m\u001b[0;34m\u001b[0m\u001b[0;34m\u001b[0m\u001b[0m\n\u001b[1;32m     72\u001b[0m     \u001b[0mlogin\u001b[0m\u001b[0;34m(\u001b[0m\u001b[0;34m)\u001b[0m\u001b[0;34m\u001b[0m\u001b[0;34m\u001b[0m\u001b[0m\n",
            "\u001b[0;32m<ipython-input-16-0cb28730bb2a>\u001b[0m in \u001b[0;36msignup\u001b[0;34m()\u001b[0m\n\u001b[1;32m      7\u001b[0m   \u001b[0mtemp\u001b[0m\u001b[0;34m=\u001b[0m\u001b[0mtemp\u001b[0m\u001b[0;34m.\u001b[0m\u001b[0mencode\u001b[0m\u001b[0;34m(\u001b[0m\u001b[0;34m)\u001b[0m\u001b[0;34m\u001b[0m\u001b[0;34m\u001b[0m\u001b[0m\n\u001b[1;32m      8\u001b[0m   \u001b[0;32mwith\u001b[0m \u001b[0mopen\u001b[0m\u001b[0;34m(\u001b[0m\u001b[0;34m'Login.dat'\u001b[0m\u001b[0;34m,\u001b[0m\u001b[0;34m'ab+'\u001b[0m\u001b[0;34m)\u001b[0m\u001b[0;32mas\u001b[0m \u001b[0mf\u001b[0m\u001b[0;34m:\u001b[0m\u001b[0;34m\u001b[0m\u001b[0;34m\u001b[0m\u001b[0m\n\u001b[0;32m----> 9\u001b[0;31m     \u001b[0msize\u001b[0m\u001b[0;34m=\u001b[0m\u001b[0mos\u001b[0m\u001b[0;34m.\u001b[0m\u001b[0mpath\u001b[0m\u001b[0;34m.\u001b[0m\u001b[0mgetsize\u001b[0m\u001b[0;34m(\u001b[0m\u001b[0;34m'Logindoc.dat'\u001b[0m\u001b[0;34m)\u001b[0m\u001b[0;34m\u001b[0m\u001b[0;34m\u001b[0m\u001b[0m\n\u001b[0m\u001b[1;32m     10\u001b[0m     \u001b[0mn\u001b[0m\u001b[0;34m=\u001b[0m\u001b[0mint\u001b[0m\u001b[0;34m(\u001b[0m\u001b[0msize\u001b[0m\u001b[0;34m/\u001b[0m\u001b[0;36m28\u001b[0m\u001b[0;34m)\u001b[0m\u001b[0;34m\u001b[0m\u001b[0;34m\u001b[0m\u001b[0m\n\u001b[1;32m     11\u001b[0m     \u001b[0mposition\u001b[0m\u001b[0;34m=\u001b[0m\u001b[0;36m0\u001b[0m\u001b[0;34m\u001b[0m\u001b[0;34m\u001b[0m\u001b[0m\n",
            "\u001b[0;32m/usr/lib/python3.7/genericpath.py\u001b[0m in \u001b[0;36mgetsize\u001b[0;34m(filename)\u001b[0m\n\u001b[1;32m     48\u001b[0m \u001b[0;32mdef\u001b[0m \u001b[0mgetsize\u001b[0m\u001b[0;34m(\u001b[0m\u001b[0mfilename\u001b[0m\u001b[0;34m)\u001b[0m\u001b[0;34m:\u001b[0m\u001b[0;34m\u001b[0m\u001b[0;34m\u001b[0m\u001b[0m\n\u001b[1;32m     49\u001b[0m     \u001b[0;34m\"\"\"Return the size of a file, reported by os.stat().\"\"\"\u001b[0m\u001b[0;34m\u001b[0m\u001b[0;34m\u001b[0m\u001b[0m\n\u001b[0;32m---> 50\u001b[0;31m     \u001b[0;32mreturn\u001b[0m \u001b[0mos\u001b[0m\u001b[0;34m.\u001b[0m\u001b[0mstat\u001b[0m\u001b[0;34m(\u001b[0m\u001b[0mfilename\u001b[0m\u001b[0;34m)\u001b[0m\u001b[0;34m.\u001b[0m\u001b[0mst_size\u001b[0m\u001b[0;34m\u001b[0m\u001b[0;34m\u001b[0m\u001b[0m\n\u001b[0m\u001b[1;32m     51\u001b[0m \u001b[0;34m\u001b[0m\u001b[0m\n\u001b[1;32m     52\u001b[0m \u001b[0;34m\u001b[0m\u001b[0m\n",
            "\u001b[0;31mFileNotFoundError\u001b[0m: [Errno 2] No such file or directory: 'Logindoc.dat'"
          ]
        }
      ]
    }
  ]
}